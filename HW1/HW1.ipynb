{
 "cells": [
  {
   "cell_type": "markdown",
   "id": "4269ead1",
   "metadata": {},
   "source": [
    "#### Приведите еще примеры метрик для оценки рекомендаций/ранжирования (можно взять из интернета, или ваши знания)"
   ]
  },
  {
   "cell_type": "markdown",
   "id": "b4c2017c",
   "metadata": {},
   "source": [
    "- MAR@k\n",
    "- F-Measure"
   ]
  },
  {
   "cell_type": "markdown",
   "id": "f7bbd1aa",
   "metadata": {},
   "source": [
    "#### Доделать все функции, где стоит комментарий \"сделать дома\""
   ]
  },
  {
   "cell_type": "code",
   "execution_count": 1,
   "id": "e0a9ffcf",
   "metadata": {},
   "outputs": [],
   "source": [
    "import numpy as np"
   ]
  },
  {
   "cell_type": "code",
   "execution_count": 23,
   "id": "977ea939",
   "metadata": {},
   "outputs": [],
   "source": [
    "recommended_list = [143, 156, 1134, 991, 27, 1543, 3345, 533, 11, 43]\n",
    "bought_list = [521, 32, 143, 991]\n",
    "prices_recommended = [100, 50, 200, 300, 150, 70, 80, 130, 170, 200]\n",
    "prices_bought = [80, 90, 120, 290]"
   ]
  },
  {
   "cell_type": "markdown",
   "id": "f994e61d",
   "metadata": {},
   "source": [
    "##### Hit rate"
   ]
  },
  {
   "cell_type": "code",
   "execution_count": 3,
   "id": "7c393724",
   "metadata": {},
   "outputs": [],
   "source": [
    "def hit_rate(recommended_list, bought_list):\n",
    "    bought_list = np.array(bought_list)\n",
    "    recommended_list = np.array(recommended_list)\n",
    "    \n",
    "    flags = np.isin(bought_list, recommended_list)\n",
    "    \n",
    "    return (flags.sum() > 0) * 1"
   ]
  },
  {
   "cell_type": "code",
   "execution_count": 4,
   "id": "d7d1095b",
   "metadata": {},
   "outputs": [],
   "source": [
    "def hit_rate_at_k(recommended_list, bought_list, k=5):\n",
    "    return hit_rate(recommended_list[:k], bought_list)"
   ]
  },
  {
   "cell_type": "code",
   "execution_count": 5,
   "id": "3905b49c",
   "metadata": {},
   "outputs": [
    {
     "data": {
      "text/plain": [
       "1"
      ]
     },
     "execution_count": 5,
     "metadata": {},
     "output_type": "execute_result"
    }
   ],
   "source": [
    "hit_rate(recommended_list, bought_list)"
   ]
  },
  {
   "cell_type": "code",
   "execution_count": 6,
   "id": "be1bf6ca",
   "metadata": {},
   "outputs": [
    {
     "data": {
      "text/plain": [
       "1"
      ]
     },
     "execution_count": 6,
     "metadata": {},
     "output_type": "execute_result"
    }
   ],
   "source": [
    "hit_rate_at_k(recommended_list, bought_list)"
   ]
  },
  {
   "cell_type": "markdown",
   "id": "86e28c36",
   "metadata": {},
   "source": [
    "##### Precision"
   ]
  },
  {
   "cell_type": "code",
   "execution_count": 15,
   "id": "daef184f",
   "metadata": {},
   "outputs": [],
   "source": [
    "def precision(recommended_list, bought_list):\n",
    "    \n",
    "    bought_list = np.array(bought_list)\n",
    "    recommended_list = np.array(recommended_list)\n",
    "    \n",
    "    flags = np.isin(bought_list, recommended_list)\n",
    "    return flags.sum() / len(recommended_list)"
   ]
  },
  {
   "cell_type": "code",
   "execution_count": 16,
   "id": "69232a7f",
   "metadata": {},
   "outputs": [],
   "source": [
    "def precision_at_k(recommended_list, bought_list, k=5):\n",
    "    return precision(recommended_list[:k], bought_list)"
   ]
  },
  {
   "cell_type": "code",
   "execution_count": 17,
   "id": "afbae450",
   "metadata": {},
   "outputs": [],
   "source": [
    "def money_precision_at_k(recommended_list, bought_list, prices_recommended, k=5):\n",
    "    \n",
    "    recommend_list = np.array(recommended_list)[:k]\n",
    "    prices_recommended = np.array(prices_recommended)[:k]\n",
    "    \n",
    "    flags = np.isin(recommend_list, bought_list)\n",
    "    \n",
    "    precision = np.dot(flags, prices_recommended).sum() / prices_recommended.sum()\n",
    "    \n",
    "    return precision"
   ]
  },
  {
   "cell_type": "code",
   "execution_count": 18,
   "id": "b56c459c",
   "metadata": {},
   "outputs": [
    {
     "data": {
      "text/plain": [
       "0.2"
      ]
     },
     "execution_count": 18,
     "metadata": {},
     "output_type": "execute_result"
    }
   ],
   "source": [
    "precision(recommended_list, bought_list)"
   ]
  },
  {
   "cell_type": "code",
   "execution_count": 19,
   "id": "0c828b40",
   "metadata": {},
   "outputs": [
    {
     "data": {
      "text/plain": [
       "0.4"
      ]
     },
     "execution_count": 19,
     "metadata": {},
     "output_type": "execute_result"
    }
   ],
   "source": [
    "precision_at_k(recommended_list, bought_list)"
   ]
  },
  {
   "cell_type": "code",
   "execution_count": 20,
   "id": "7780b4fe",
   "metadata": {},
   "outputs": [
    {
     "data": {
      "text/plain": [
       "0.5"
      ]
     },
     "execution_count": 20,
     "metadata": {},
     "output_type": "execute_result"
    }
   ],
   "source": [
    "money_precision_at_k(recommended_list, bought_list, prices_recommended)"
   ]
  },
  {
   "cell_type": "markdown",
   "id": "43162dd6",
   "metadata": {},
   "source": [
    "##### Recall"
   ]
  },
  {
   "cell_type": "code",
   "execution_count": 7,
   "id": "9cd18798",
   "metadata": {},
   "outputs": [],
   "source": [
    "def recall(recommended_list, bought_list):\n",
    "    \n",
    "    bought_list = np.array(bought_list)\n",
    "    recommended_list = np.array(recommended_list)\n",
    "    \n",
    "    flags = np.isin(bought_list, recommended_list)\n",
    "    return flags.sum() / len(bought_list)"
   ]
  },
  {
   "cell_type": "code",
   "execution_count": 8,
   "id": "bc76a455",
   "metadata": {},
   "outputs": [],
   "source": [
    "def recall_at_k(recommended_list, bought_list, k=5):\n",
    "    return recall(recommended_list[:k], bought_list)"
   ]
  },
  {
   "cell_type": "code",
   "execution_count": 9,
   "id": "f33093ff",
   "metadata": {},
   "outputs": [],
   "source": [
    "def money_recall_at_k(recommended_list, bought_list, prices_recommended, prices_bought, k=5):\n",
    "    bought_list = np.array(bought_list)\n",
    "    prices_bought = np.array(prices_bought)\n",
    "    \n",
    "    top_recommended_list = np.array(recommended_list)[:k]\n",
    "    top_prices_recommended = np.array(prices_recommended)[:k]\n",
    "    \n",
    "    flags = np.isin(top_recommended_list, bought_list)\n",
    "    return np.dot(flags, top_prices_recommended).sum() / prices_bought.sum()\n",
    "    \n",
    "    "
   ]
  },
  {
   "cell_type": "code",
   "execution_count": 10,
   "id": "40c0079a",
   "metadata": {},
   "outputs": [
    {
     "data": {
      "text/plain": [
       "0.5"
      ]
     },
     "execution_count": 10,
     "metadata": {},
     "output_type": "execute_result"
    }
   ],
   "source": [
    "recall(recommended_list, bought_list)"
   ]
  },
  {
   "cell_type": "code",
   "execution_count": 11,
   "id": "c0f75226",
   "metadata": {},
   "outputs": [
    {
     "data": {
      "text/plain": [
       "0.5"
      ]
     },
     "execution_count": 11,
     "metadata": {},
     "output_type": "execute_result"
    }
   ],
   "source": [
    "recall_at_k(recommended_list, bought_list)"
   ]
  },
  {
   "cell_type": "code",
   "execution_count": 12,
   "id": "40ca8f8a",
   "metadata": {},
   "outputs": [
    {
     "data": {
      "text/plain": [
       "0.6896551724137931"
      ]
     },
     "execution_count": 12,
     "metadata": {},
     "output_type": "execute_result"
    }
   ],
   "source": [
    "money_recall_at_k(recommended_list, bought_list, prices_recommended, prices_bought)"
   ]
  },
  {
   "cell_type": "markdown",
   "id": "c411a116",
   "metadata": {},
   "source": [
    "##### AP@k"
   ]
  },
  {
   "cell_type": "code",
   "execution_count": 21,
   "id": "d60cbdcd",
   "metadata": {},
   "outputs": [],
   "source": [
    "def ap_k(recommended_list, bought_list, k=5):\n",
    "    \n",
    "    bought_list = np.array(bought_list)\n",
    "    recommended_list = np.array(recommended_list)[:k]\n",
    "    \n",
    "    relevant_indexes = np.nonzero(np.isin(recommended_list, bought_list))[0]\n",
    "    if len(relevant_indexes) == 0:\n",
    "        return 0\n",
    "    \n",
    "    amount_relevant = len(relevant_indexes)\n",
    "            \n",
    "    sum_ = sum([precision_at_k(recommended_list, bought_list, k=index_relevant+1) for index_relevant in relevant_indexes])\n",
    "    return sum_/amount_relevant\n",
    "  "
   ]
  },
  {
   "cell_type": "code",
   "execution_count": 22,
   "id": "5ce2c9c8",
   "metadata": {},
   "outputs": [
    {
     "data": {
      "text/plain": [
       "0.75"
      ]
     },
     "execution_count": 22,
     "metadata": {},
     "output_type": "execute_result"
    }
   ],
   "source": [
    "ap_k(recommended_list, bought_list)"
   ]
  },
  {
   "cell_type": "markdown",
   "id": "43d1d22a",
   "metadata": {},
   "source": [
    "##### MAP@k"
   ]
  },
  {
   "cell_type": "code",
   "execution_count": 27,
   "id": "f1a9b27c",
   "metadata": {},
   "outputs": [],
   "source": [
    "recommended_list_users = [[1,2,5,9,3,4], [2,1,8,9,5,7]]\n",
    "bought_list_users = [[2,8,7], [3,2,6]]"
   ]
  },
  {
   "cell_type": "code",
   "execution_count": 28,
   "id": "8f7716e5",
   "metadata": {},
   "outputs": [],
   "source": [
    "def map_k(recommended_list, bought_list, k=5):\n",
    "    apk_sum = 0\n",
    "    count_user = 0\n",
    "    \n",
    "    for rec_list_user, bought_list_user in zip(recommended_list, bought_list):\n",
    "        apk_sum = apk_sum + ap_k(rec_list_user, bought_list_user, k)\n",
    "        count_user = count_user + 1\n",
    "    \n",
    "    return apk_sum / count_user"
   ]
  },
  {
   "cell_type": "code",
   "execution_count": 29,
   "id": "424d747e",
   "metadata": {},
   "outputs": [
    {
     "data": {
      "text/plain": [
       "0.75"
      ]
     },
     "execution_count": 29,
     "metadata": {},
     "output_type": "execute_result"
    }
   ],
   "source": [
    "map_k(recommended_list_users, bought_list_users)"
   ]
  },
  {
   "cell_type": "markdown",
   "id": "2a2224da",
   "metadata": {},
   "source": [
    "##### NDCG@k"
   ]
  },
  {
   "cell_type": "code",
   "execution_count": 30,
   "id": "56f4bed7",
   "metadata": {},
   "outputs": [],
   "source": [
    "import math"
   ]
  },
  {
   "cell_type": "code",
   "execution_count": 35,
   "id": "0f947bda",
   "metadata": {},
   "outputs": [],
   "source": [
    "def dcg(flags):\n",
    "    sum = 0\n",
    "    count = 0\n",
    "    \n",
    "    for index, flag in enumerate(flags):\n",
    "        if index < 2:\n",
    "            sum = sum + (flag / (index + 1))\n",
    "        else:\n",
    "            sum = sum + (flag / math.log(index + 1))\n",
    "            \n",
    "        count = count + 1\n",
    "        \n",
    "    return sum / count"
   ]
  },
  {
   "cell_type": "code",
   "execution_count": 36,
   "id": "d921562f",
   "metadata": {},
   "outputs": [],
   "source": [
    "def ideal_dcg(flags):\n",
    "    sum = 0\n",
    "    count = 0\n",
    "    \n",
    "    for index, flag in enumerate(flags):\n",
    "        if index < 2:\n",
    "            sum = sum + (1 / (index + 1))\n",
    "        else:\n",
    "            sum = sum + (1 / math.log(index + 1))\n",
    "            \n",
    "        count = count + 1\n",
    "        \n",
    "    return sum / count"
   ]
  },
  {
   "cell_type": "code",
   "execution_count": 37,
   "id": "3d649a50",
   "metadata": {},
   "outputs": [],
   "source": [
    "def ndcg_at_k(recommended_list, bought_list, k=5):\n",
    "    top_recommended_list = np.array(recommended_list)[:k]\n",
    "    flags = np.isin(recommended_list, bought_list)\n",
    "    \n",
    "    value_dcg = dcg(flags) \n",
    "    value_ideal_dcg = ideal_dcg(flags)\n",
    "    \n",
    "    return value_dcg / value_ideal_dcg"
   ]
  },
  {
   "cell_type": "code",
   "execution_count": 38,
   "id": "27fc46ad",
   "metadata": {},
   "outputs": [
    {
     "data": {
      "text/plain": [
       "0.2778498752476734"
      ]
     },
     "execution_count": 38,
     "metadata": {},
     "output_type": "execute_result"
    }
   ],
   "source": [
    "ndcg_at_k(recommended_list, bought_list, k=5)"
   ]
  },
  {
   "cell_type": "markdown",
   "id": "f09541a1",
   "metadata": {},
   "source": [
    "##### MRR@k"
   ]
  },
  {
   "cell_type": "code",
   "execution_count": 39,
   "id": "a74971ca",
   "metadata": {},
   "outputs": [],
   "source": [
    "def reciprocal_rank(recommended_list, bought_list, k=5):\n",
    "    for index, value in enumerate(recommended_list[:k]):\n",
    "        if value in bought_list:\n",
    "            return 1/(index + 1)"
   ]
  },
  {
   "cell_type": "code",
   "execution_count": 40,
   "id": "588abaff",
   "metadata": {},
   "outputs": [],
   "source": [
    "def mean_reciprocal_rank(recommended_list, bought_list, k=5):\n",
    "    sum = 0\n",
    "    count = 0\n",
    "    \n",
    "    for rec_list_user, bought_list_user in zip(recommended_list, bought_list):\n",
    "        sum = sum + reciprocal_rank(rec_list_user, bought_list_user)\n",
    "        count = count + 1\n",
    "        \n",
    "    return sum / count"
   ]
  },
  {
   "cell_type": "code",
   "execution_count": 41,
   "id": "f248f7c7",
   "metadata": {},
   "outputs": [
    {
     "data": {
      "text/plain": [
       "0.75"
      ]
     },
     "execution_count": 41,
     "metadata": {},
     "output_type": "execute_result"
    }
   ],
   "source": [
    "mean_reciprocal_rank(recommended_list_users, bought_list_users)"
   ]
  }
 ],
 "metadata": {
  "kernelspec": {
   "display_name": "Python 3 (ipykernel)",
   "language": "python",
   "name": "python3"
  },
  "language_info": {
   "codemirror_mode": {
    "name": "ipython",
    "version": 3
   },
   "file_extension": ".py",
   "mimetype": "text/x-python",
   "name": "python",
   "nbconvert_exporter": "python",
   "pygments_lexer": "ipython3",
   "version": "3.9.7"
  }
 },
 "nbformat": 4,
 "nbformat_minor": 5
}
