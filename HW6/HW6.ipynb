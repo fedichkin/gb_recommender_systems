{
 "cells": [
  {
   "cell_type": "code",
   "execution_count": 1,
   "id": "2915c16b",
   "metadata": {},
   "outputs": [],
   "source": [
    "import pandas as pd\n",
    "import numpy as np\n",
    "import matplotlib.pyplot as plt\n",
    "%matplotlib inline\n",
    "\n",
    "# Для работы с матрицами\n",
    "from scipy.sparse import csr_matrix\n",
    "\n",
    "# Матричная факторизация\n",
    "from implicit import als\n",
    "\n",
    "# Модель второго уровня\n",
    "from lightgbm import LGBMClassifier\n",
    "\n",
    "import os, sys\n",
    "module_path = os.path.abspath(os.path.join(os.pardir))\n",
    "if module_path not in sys.path:\n",
    "    sys.path.append(module_path)\n",
    "\n",
    "# Написанные нами функции\n",
    "from metrics import precision_at_k, recall_at_k\n",
    "from utils import prefilter_items\n",
    "from recommenders import MainRecommender"
   ]
  },
  {
   "cell_type": "code",
   "execution_count": 2,
   "id": "44665643",
   "metadata": {},
   "outputs": [],
   "source": [
    "data = pd.read_csv('./retail_train.csv')\n",
    "item_features = pd.read_csv('./product.csv')\n",
    "user_features = pd.read_csv('./hh_demographic.csv')"
   ]
  },
  {
   "cell_type": "markdown",
   "id": "87691289",
   "metadata": {},
   "source": [
    "# Process features dataset"
   ]
  },
  {
   "cell_type": "code",
   "execution_count": 3,
   "id": "ef170229",
   "metadata": {},
   "outputs": [],
   "source": [
    "ITEM_COL = 'item_id'\n",
    "USER_COL = 'user_id'"
   ]
  },
  {
   "cell_type": "code",
   "execution_count": 4,
   "id": "5922e7de",
   "metadata": {},
   "outputs": [],
   "source": [
    "# column processing\n",
    "item_features.columns = [col.lower() for col in item_features.columns]\n",
    "user_features.columns = [col.lower() for col in user_features.columns]\n",
    "\n",
    "item_features.rename(columns={'product_id': ITEM_COL}, inplace=True)\n",
    "user_features.rename(columns={'household_key': USER_COL }, inplace=True)"
   ]
  },
  {
   "cell_type": "markdown",
   "id": "9d90808f",
   "metadata": {},
   "source": [
    "# Split dataset for train, eval, test"
   ]
  },
  {
   "cell_type": "code",
   "execution_count": 5,
   "id": "8069557c",
   "metadata": {},
   "outputs": [],
   "source": [
    "# Важна схема обучения и валидации!\n",
    "# -- давние покупки -- | -- 6 недель -- | -- 3 недель -- \n",
    "# подобрать размер 2-ого датасета (6 недель) --> learning curve (зависимость метрики recall@k от размера датасета)\n",
    "\n",
    "\n",
    "VAL_MATCHER_WEEKS = 6\n",
    "VAL_RANKER_WEEKS = 3"
   ]
  },
  {
   "cell_type": "code",
   "execution_count": 6,
   "id": "87f11439",
   "metadata": {},
   "outputs": [],
   "source": [
    "# берем данные для тренировки matching модели\n",
    "data_train_matcher = data[data['week_no'] < data['week_no'].max() - (VAL_MATCHER_WEEKS + VAL_RANKER_WEEKS)]\n",
    "\n",
    "# берем данные для валидации matching модели\n",
    "data_val_matcher = data[(data['week_no'] >= data['week_no'].max() - (VAL_MATCHER_WEEKS + VAL_RANKER_WEEKS)) &\n",
    "                      (data['week_no'] < data['week_no'].max() - (VAL_RANKER_WEEKS))]\n",
    "\n",
    "df_join_train_matcher = pd.concat([data_train_matcher, data_val_matcher])\n",
    "\n",
    "# берем данные для тренировки ranking модели\n",
    "data_train_ranker = data_val_matcher.copy()  # Для наглядности. Далее мы добавим изменения, и они будут отличаться\n",
    "\n",
    "# берем данные для теста ranking, matching модели\n",
    "data_val_ranker = data[data['week_no'] >= data['week_no'].max() - VAL_RANKER_WEEKS]"
   ]
  },
  {
   "cell_type": "code",
   "execution_count": 7,
   "id": "39eb5e95",
   "metadata": {},
   "outputs": [],
   "source": [
    "def print_stats_data(df_data, name_df):\n",
    "    print(name_df)\n",
    "    print(f\"Shape: {df_data.shape} Users: {df_data[USER_COL].nunique()} Items: {df_data[ITEM_COL].nunique()}\")"
   ]
  },
  {
   "cell_type": "code",
   "execution_count": 8,
   "id": "cc49a644",
   "metadata": {},
   "outputs": [
    {
     "name": "stdout",
     "output_type": "stream",
     "text": [
      "train_matcher\n",
      "Shape: (2108779, 12) Users: 2498 Items: 83685\n",
      "val_matcher\n",
      "Shape: (169711, 12) Users: 2154 Items: 27649\n",
      "train_ranker\n",
      "Shape: (169711, 12) Users: 2154 Items: 27649\n",
      "val_ranker\n",
      "Shape: (118314, 12) Users: 2042 Items: 24329\n"
     ]
    }
   ],
   "source": [
    "print_stats_data(data_train_matcher,'train_matcher')\n",
    "print_stats_data(data_val_matcher,'val_matcher')\n",
    "print_stats_data(data_train_ranker,'train_ranker')\n",
    "print_stats_data(data_val_ranker,'val_ranker')"
   ]
  },
  {
   "cell_type": "markdown",
   "id": "beeafa84",
   "metadata": {},
   "source": [
    "# Prefilter items"
   ]
  },
  {
   "cell_type": "code",
   "execution_count": 9,
   "id": "e1e7d34e",
   "metadata": {},
   "outputs": [
    {
     "name": "stderr",
     "output_type": "stream",
     "text": [
      "D:\\GeekBrains\\Рекомендательные системы\\gb_recommender_systems\\HW6\\utils.py:20: SettingWithCopyWarning: \n",
      "A value is trying to be set on a copy of a slice from a DataFrame.\n",
      "Try using .loc[row_indexer,col_indexer] = value instead\n",
      "\n",
      "See the caveats in the documentation: https://pandas.pydata.org/pandas-docs/stable/user_guide/indexing.html#returning-a-view-versus-a-copy\n",
      "  data['price'] = data['sales_value'] / (np.maximum(data['quantity'], 1))\n"
     ]
    },
    {
     "name": "stdout",
     "output_type": "stream",
     "text": [
      "Decreased # items from 83685 to 5001\n"
     ]
    }
   ],
   "source": [
    "n_items_before = data_train_matcher['item_id'].nunique()\n",
    "\n",
    "data_train_matcher = prefilter_items(data_train_matcher, item_features=item_features, take_n_popular=5000)\n",
    "\n",
    "n_items_after = data_train_matcher['item_id'].nunique()\n",
    "print('Decreased # items from {} to {}'.format(n_items_before, n_items_after))"
   ]
  },
  {
   "cell_type": "markdown",
   "id": "e05d6a80",
   "metadata": {},
   "source": [
    "# Make cold-start to warm-start"
   ]
  },
  {
   "cell_type": "code",
   "execution_count": 10,
   "id": "4628929f",
   "metadata": {},
   "outputs": [
    {
     "name": "stdout",
     "output_type": "stream",
     "text": [
      "train_matcher\n",
      "Shape: (861404, 13) Users: 2495 Items: 5001\n",
      "val_matcher\n",
      "Shape: (169615, 12) Users: 2151 Items: 27644\n",
      "train_ranker\n",
      "Shape: (169615, 12) Users: 2151 Items: 27644\n",
      "val_ranker\n",
      "Shape: (118282, 12) Users: 2040 Items: 24325\n"
     ]
    }
   ],
   "source": [
    "# ищем общих пользователей\n",
    "common_users = data_train_matcher.user_id.values\n",
    "\n",
    "data_val_matcher = data_val_matcher[data_val_matcher.user_id.isin(common_users)]\n",
    "data_train_ranker = data_train_ranker[data_train_ranker.user_id.isin(common_users)]\n",
    "data_val_ranker = data_val_ranker[data_val_ranker.user_id.isin(common_users)]\n",
    "\n",
    "print_stats_data(data_train_matcher,'train_matcher')\n",
    "print_stats_data(data_val_matcher,'val_matcher')\n",
    "print_stats_data(data_train_ranker,'train_ranker')\n",
    "print_stats_data(data_val_ranker,'val_ranker')"
   ]
  },
  {
   "cell_type": "markdown",
   "id": "3fb7975e",
   "metadata": {},
   "source": [
    "# Init/train recommender"
   ]
  },
  {
   "cell_type": "code",
   "execution_count": 11,
   "id": "3a561f48",
   "metadata": {},
   "outputs": [
    {
     "name": "stderr",
     "output_type": "stream",
     "text": [
      "WARNING:root:Intel MKL BLAS detected. Its highly recommend to set the environment variable 'export MKL_NUM_THREADS=1' to disable its internal multithreading\n"
     ]
    },
    {
     "data": {
      "application/vnd.jupyter.widget-view+json": {
       "model_id": "920adbe5ac3c4f8cac8cc0425de117eb",
       "version_major": 2,
       "version_minor": 0
      },
      "text/plain": [
       "  0%|          | 0/15 [00:00<?, ?it/s]"
      ]
     },
     "metadata": {},
     "output_type": "display_data"
    },
    {
     "data": {
      "application/vnd.jupyter.widget-view+json": {
       "model_id": "45733e726c7746c6a4bdf82a6c2e6e7b",
       "version_major": 2,
       "version_minor": 0
      },
      "text/plain": [
       "  0%|          | 0/5001 [00:00<?, ?it/s]"
      ]
     },
     "metadata": {},
     "output_type": "display_data"
    }
   ],
   "source": [
    "recommender = MainRecommender(data_train_matcher)"
   ]
  },
  {
   "cell_type": "markdown",
   "id": "e88c81ac",
   "metadata": {},
   "source": [
    "# Eval recall of matching"
   ]
  },
  {
   "cell_type": "code",
   "execution_count": 12,
   "id": "974a67c1",
   "metadata": {},
   "outputs": [],
   "source": [
    "ACTUAL_COL = 'actual'"
   ]
  },
  {
   "cell_type": "code",
   "execution_count": 13,
   "id": "4b010c21",
   "metadata": {},
   "outputs": [
    {
     "data": {
      "text/html": [
       "<div>\n",
       "<style scoped>\n",
       "    .dataframe tbody tr th:only-of-type {\n",
       "        vertical-align: middle;\n",
       "    }\n",
       "\n",
       "    .dataframe tbody tr th {\n",
       "        vertical-align: top;\n",
       "    }\n",
       "\n",
       "    .dataframe thead th {\n",
       "        text-align: right;\n",
       "    }\n",
       "</style>\n",
       "<table border=\"1\" class=\"dataframe\">\n",
       "  <thead>\n",
       "    <tr style=\"text-align: right;\">\n",
       "      <th></th>\n",
       "      <th>user_id</th>\n",
       "      <th>actual</th>\n",
       "    </tr>\n",
       "  </thead>\n",
       "  <tbody>\n",
       "    <tr>\n",
       "      <th>0</th>\n",
       "      <td>1</td>\n",
       "      <td>[853529, 865456, 867607, 872137, 874905, 87524...</td>\n",
       "    </tr>\n",
       "    <tr>\n",
       "      <th>1</th>\n",
       "      <td>2</td>\n",
       "      <td>[15830248, 838136, 839656, 861272, 866211, 870...</td>\n",
       "    </tr>\n",
       "  </tbody>\n",
       "</table>\n",
       "</div>"
      ],
      "text/plain": [
       "   user_id                                             actual\n",
       "0        1  [853529, 865456, 867607, 872137, 874905, 87524...\n",
       "1        2  [15830248, 838136, 839656, 861272, 866211, 870..."
      ]
     },
     "execution_count": 13,
     "metadata": {},
     "output_type": "execute_result"
    }
   ],
   "source": [
    "result_eval_matcher = data_val_matcher.groupby(USER_COL)[ITEM_COL].unique().reset_index()\n",
    "result_eval_matcher.columns=[USER_COL, ACTUAL_COL]\n",
    "result_eval_matcher.head(2)"
   ]
  },
  {
   "cell_type": "code",
   "execution_count": 14,
   "id": "361ca0ab",
   "metadata": {},
   "outputs": [],
   "source": [
    "# N = Neighbors\n",
    "N_PREDICT = 50 "
   ]
  },
  {
   "cell_type": "code",
   "execution_count": 15,
   "id": "ee69da33",
   "metadata": {},
   "outputs": [
    {
     "name": "stdout",
     "output_type": "stream",
     "text": [
      "Wall time: 39.2 s\n"
     ]
    }
   ],
   "source": [
    "%%time\n",
    "# для понятности расписано все в строчку, без функций, ваша задача уметь оборачивать все это в функции\n",
    "result_eval_matcher['own_rec'] = result_eval_matcher[USER_COL].apply(lambda x: recommender.get_own_recommendations(x, N=N_PREDICT))\n",
    "result_eval_matcher['sim_item_rec'] = result_eval_matcher[USER_COL].apply(lambda x: recommender.get_similar_items_recommendation(x, N=50))\n",
    "result_eval_matcher['als_rec'] = result_eval_matcher[USER_COL].apply(lambda x: recommender.get_als_recommendations(x, N=50))"
   ]
  },
  {
   "cell_type": "code",
   "execution_count": 16,
   "id": "a2b4a285",
   "metadata": {},
   "outputs": [],
   "source": [
    "def calc_recall(df_data, top_k):\n",
    "    for col_name in df_data.columns[2:]:\n",
    "        yield col_name, df_data.apply(lambda row: recall_at_k(row[col_name], row[ACTUAL_COL], k=top_k), axis=1).mean()"
   ]
  },
  {
   "cell_type": "code",
   "execution_count": 17,
   "id": "0c2e3093",
   "metadata": {},
   "outputs": [],
   "source": [
    "def calc_precision(df_data, top_k):\n",
    "    for col_name in df_data.columns[2:]:\n",
    "        yield col_name, df_data.apply(lambda row: precision_at_k(row[col_name], row[ACTUAL_COL], k=top_k), axis=1).mean()"
   ]
  },
  {
   "cell_type": "code",
   "execution_count": 18,
   "id": "c17d8a0d",
   "metadata": {},
   "outputs": [],
   "source": [
    "def eval_recall(df_result, target_col_name, recommend_model, N):\n",
    "    result_col_name = 'result'\n",
    "    \n",
    "    df_result[result_col_name] = df_result[target_col_name].apply(lambda x: recommend_model(x, N=N))\n",
    "    \n",
    "    return df_result.apply(lambda row: recall_at_k(row[result_col_name], row[ACTUAL_COL], k=N), axis=1).mean()"
   ]
  },
  {
   "cell_type": "markdown",
   "id": "40de2069",
   "metadata": {},
   "source": [
    "A) Попробуйте различные варианты генерации кандидатов. Какие из них дают наибольший recall@k ?\n",
    "- Пока пробуем отобрать 50 кандидатов (k=50)\n",
    "- Качество измеряем на data_val_matcher: следующие 6 недель после трейна\n",
    "\n",
    "Дают ли own recommendtions + top-popular лучший recall? "
   ]
  },
  {
   "cell_type": "code",
   "execution_count": 19,
   "id": "9e403602",
   "metadata": {},
   "outputs": [
    {
     "data": {
      "text/plain": [
       "0.06525657038145175"
      ]
     },
     "execution_count": 19,
     "metadata": {},
     "output_type": "execute_result"
    }
   ],
   "source": [
    "eval_recall(result_eval_matcher, USER_COL, recommender.get_own_recommendations, N=50)"
   ]
  },
  {
   "cell_type": "code",
   "execution_count": 20,
   "id": "f3f44bb1",
   "metadata": {},
   "outputs": [
    {
     "data": {
      "text/plain": [
       "0.03367500579474843"
      ]
     },
     "execution_count": 20,
     "metadata": {},
     "output_type": "execute_result"
    }
   ],
   "source": [
    "eval_recall(result_eval_matcher, USER_COL, recommender.get_similar_items_recommendation, N=50)"
   ]
  },
  {
   "cell_type": "code",
   "execution_count": 21,
   "id": "5f1ea34f",
   "metadata": {},
   "outputs": [
    {
     "data": {
      "text/plain": [
       "0.048866684427501104"
      ]
     },
     "execution_count": 21,
     "metadata": {},
     "output_type": "execute_result"
    }
   ],
   "source": [
    "eval_recall(result_eval_matcher, USER_COL, recommender.get_als_recommendations, N=50)"
   ]
  },
  {
   "cell_type": "markdown",
   "id": "845312c0",
   "metadata": {},
   "source": [
    "B)* Как зависит recall@k от k? Постройте для одной схемы генерации кандидатов эту зависимость для k = {20, 50, 100, 200, 500}"
   ]
  },
  {
   "cell_type": "markdown",
   "id": "40626894",
   "metadata": {},
   "source": [
    "Будем измерять на get_own_recommendations, так как там лучшая метрика"
   ]
  },
  {
   "cell_type": "code",
   "execution_count": 22,
   "id": "4068fa87",
   "metadata": {},
   "outputs": [
    {
     "name": "stdout",
     "output_type": "stream",
     "text": [
      "k = 20\n",
      "result = 0.03928427679372909\n",
      "k = 50\n",
      "result = 0.06525657038145175\n",
      "k = 100\n",
      "result = 0.09604492955885034\n",
      "k = 200\n",
      "result = 0.13537278412833242\n",
      "k = 500\n",
      "result = 0.18205324555508678\n"
     ]
    }
   ],
   "source": [
    "k = [20, 50, 100, 200, 500]\n",
    "results = []\n",
    "\n",
    "for ki in k:\n",
    "    result = eval_recall(result_eval_matcher, USER_COL, recommender.get_own_recommendations, N=ki)\n",
    "    \n",
    "    print(f\"k = {ki}\")\n",
    "    print(f\"result = {result}\")\n",
    "    \n",
    "    results.append(result)"
   ]
  },
  {
   "cell_type": "code",
   "execution_count": 23,
   "id": "de989c82",
   "metadata": {},
   "outputs": [
    {
     "data": {
      "image/png": "[encoded data removed]",
      "text/plain": [
       "<Figure size 432x288 with 1 Axes>"
      ]
     },
     "metadata": {
      "needs_background": "light"
     },
     "output_type": "display_data"
    }
   ],
   "source": [
    "plt.plot(k, results)\n",
    "plt.xlabel('k')\n",
    "plt.ylabel('eval_recall')\n",
    "plt.show()"
   ]
  },
  {
   "cell_type": "markdown",
   "id": "ee25b5a8",
   "metadata": {},
   "source": [
    "Наиболее оптимальным k являетсяя значение 200, так как на нём виден перелом от крутого роста к более плавному"
   ]
  },
  {
   "cell_type": "code",
   "execution_count": 24,
   "id": "a85aa2c7",
   "metadata": {},
   "outputs": [],
   "source": [
    "N_PREDICT = 200"
   ]
  },
  {
   "cell_type": "markdown",
   "id": "c5d8b1dc",
   "metadata": {},
   "source": [
    "### Recall@50 of matching"
   ]
  },
  {
   "cell_type": "code",
   "execution_count": 25,
   "id": "5fa82f19",
   "metadata": {},
   "outputs": [],
   "source": [
    "TOPK_RECALL = 50"
   ]
  },
  {
   "cell_type": "code",
   "execution_count": 26,
   "id": "7fd5349a",
   "metadata": {},
   "outputs": [
    {
     "data": {
      "text/plain": [
       "[('own_rec', 0.06525657038145175),\n",
       " ('result', 0.06525657038145175),\n",
       " ('als_rec', 0.048866684427501104),\n",
       " ('sim_item_rec', 0.03367500579474843)]"
      ]
     },
     "execution_count": 26,
     "metadata": {},
     "output_type": "execute_result"
    }
   ],
   "source": [
    "sorted(calc_recall(result_eval_matcher, TOPK_RECALL), key=lambda x: x[1],reverse=True)"
   ]
  },
  {
   "cell_type": "markdown",
   "id": "c5523eea",
   "metadata": {},
   "source": [
    "### Precision@5 of matching"
   ]
  },
  {
   "cell_type": "code",
   "execution_count": 27,
   "id": "48ebeffb",
   "metadata": {},
   "outputs": [],
   "source": [
    "TOPK_PRECISION = 5"
   ]
  },
  {
   "cell_type": "code",
   "execution_count": 28,
   "id": "689ca78b",
   "metadata": {},
   "outputs": [
    {
     "data": {
      "text/plain": [
       "[('own_rec', 0.17712691771268974),\n",
       " ('result', 0.17712691771268974),\n",
       " ('als_rec', 0.11492329149232805),\n",
       " ('sim_item_rec', 0.062203626220362934)]"
      ]
     },
     "execution_count": 28,
     "metadata": {},
     "output_type": "execute_result"
    }
   ],
   "source": [
    "sorted(calc_precision(result_eval_matcher, TOPK_PRECISION), key=lambda x: x[1],reverse=True)"
   ]
  },
  {
   "cell_type": "markdown",
   "id": "511d362f",
   "metadata": {},
   "source": [
    "# Ranking part"
   ]
  },
  {
   "cell_type": "markdown",
   "id": "5fbec5be",
   "metadata": {},
   "source": [
    "### Обучаем модель 2-ого уровня на выбранных кандидатах\n",
    "\n",
    "- Обучаем на data_train_ranking\n",
    "- Обучаем *только* на выбранных кандидатах\n",
    "- Я *для примера* сгенерирую топ-50 кадидиатов через get_own_recommendations\n",
    "- (!) Если юзер купил < 50 товаров, то get_own_recommendations дополнит рекоммендации топ-популярными"
   ]
  },
  {
   "cell_type": "code",
   "execution_count": 29,
   "id": "74e50063",
   "metadata": {},
   "outputs": [],
   "source": [
    "# взяли пользователей из трейна для ранжирования\n",
    "df_match_candidates = pd.DataFrame(data_train_ranker[USER_COL].unique())\n",
    "df_match_candidates.columns = [USER_COL]"
   ]
  },
  {
   "cell_type": "code",
   "execution_count": 30,
   "id": "fb819f37",
   "metadata": {},
   "outputs": [],
   "source": [
    "# собираем кандитатов с первого этапа (matcher)\n",
    "df_match_candidates['candidates'] = df_match_candidates[USER_COL].apply(lambda x: recommender.get_own_recommendations(x, N=N_PREDICT))"
   ]
  },
  {
   "cell_type": "code",
   "execution_count": 31,
   "id": "961fbaf8",
   "metadata": {},
   "outputs": [],
   "source": [
    "df_items = df_match_candidates.apply(lambda x: pd.Series(x['candidates']), axis=1).stack().reset_index(level=1, drop=True)\n",
    "df_items.name = 'item_id'"
   ]
  },
  {
   "cell_type": "code",
   "execution_count": 32,
   "id": "4d633776",
   "metadata": {},
   "outputs": [],
   "source": [
    "df_match_candidates = df_match_candidates.drop('candidates', axis=1).join(df_items)"
   ]
  },
  {
   "cell_type": "code",
   "execution_count": 33,
   "id": "6e77c25b",
   "metadata": {},
   "outputs": [],
   "source": [
    "df_ranker_train = data_train_ranker[[USER_COL, ITEM_COL]].copy()\n",
    "df_ranker_train['target'] = 1  # тут только покупки "
   ]
  },
  {
   "cell_type": "code",
   "execution_count": 34,
   "id": "02a4d713",
   "metadata": {},
   "outputs": [],
   "source": [
    "df_ranker_train = df_match_candidates.merge(df_ranker_train, on=[USER_COL, ITEM_COL], how='left')\n",
    "\n",
    "# чистим дубликаты\n",
    "df_ranker_train = df_ranker_train.drop_duplicates(subset=[USER_COL, ITEM_COL])\n",
    "\n",
    "df_ranker_train['target'].fillna(0, inplace= True)"
   ]
  },
  {
   "cell_type": "markdown",
   "id": "3df85432",
   "metadata": {},
   "source": [
    "## Подготавливаем фичи для обучения модели"
   ]
  },
  {
   "cell_type": "code",
   "execution_count": 35,
   "id": "61774fec",
   "metadata": {},
   "outputs": [
    {
     "data": {
      "text/html": [
       "<div>\n",
       "<style scoped>\n",
       "    .dataframe tbody tr th:only-of-type {\n",
       "        vertical-align: middle;\n",
       "    }\n",
       "\n",
       "    .dataframe tbody tr th {\n",
       "        vertical-align: top;\n",
       "    }\n",
       "\n",
       "    .dataframe thead th {\n",
       "        text-align: right;\n",
       "    }\n",
       "</style>\n",
       "<table border=\"1\" class=\"dataframe\">\n",
       "  <thead>\n",
       "    <tr style=\"text-align: right;\">\n",
       "      <th></th>\n",
       "      <th>item_id</th>\n",
       "      <th>manufacturer</th>\n",
       "      <th>department</th>\n",
       "      <th>brand</th>\n",
       "      <th>commodity_desc</th>\n",
       "      <th>sub_commodity_desc</th>\n",
       "      <th>curr_size_of_product</th>\n",
       "    </tr>\n",
       "  </thead>\n",
       "  <tbody>\n",
       "    <tr>\n",
       "      <th>0</th>\n",
       "      <td>25671</td>\n",
       "      <td>2</td>\n",
       "      <td>GROCERY</td>\n",
       "      <td>National</td>\n",
       "      <td>FRZN ICE</td>\n",
       "      <td>ICE - CRUSHED/CUBED</td>\n",
       "      <td>22 LB</td>\n",
       "    </tr>\n",
       "    <tr>\n",
       "      <th>1</th>\n",
       "      <td>26081</td>\n",
       "      <td>2</td>\n",
       "      <td>MISC. TRANS.</td>\n",
       "      <td>National</td>\n",
       "      <td>NO COMMODITY DESCRIPTION</td>\n",
       "      <td>NO SUBCOMMODITY DESCRIPTION</td>\n",
       "      <td></td>\n",
       "    </tr>\n",
       "  </tbody>\n",
       "</table>\n",
       "</div>"
      ],
      "text/plain": [
       "   item_id  manufacturer    department     brand            commodity_desc  \\\n",
       "0    25671             2       GROCERY  National                  FRZN ICE   \n",
       "1    26081             2  MISC. TRANS.  National  NO COMMODITY DESCRIPTION   \n",
       "\n",
       "            sub_commodity_desc curr_size_of_product  \n",
       "0          ICE - CRUSHED/CUBED                22 LB  \n",
       "1  NO SUBCOMMODITY DESCRIPTION                       "
      ]
     },
     "execution_count": 35,
     "metadata": {},
     "output_type": "execute_result"
    }
   ],
   "source": [
    "item_features.head(2)"
   ]
  },
  {
   "cell_type": "code",
   "execution_count": 36,
   "id": "d6b5c2a3",
   "metadata": {},
   "outputs": [
    {
     "data": {
      "text/html": [
       "<div>\n",
       "<style scoped>\n",
       "    .dataframe tbody tr th:only-of-type {\n",
       "        vertical-align: middle;\n",
       "    }\n",
       "\n",
       "    .dataframe tbody tr th {\n",
       "        vertical-align: top;\n",
       "    }\n",
       "\n",
       "    .dataframe thead th {\n",
       "        text-align: right;\n",
       "    }\n",
       "</style>\n",
       "<table border=\"1\" class=\"dataframe\">\n",
       "  <thead>\n",
       "    <tr style=\"text-align: right;\">\n",
       "      <th></th>\n",
       "      <th>age_desc</th>\n",
       "      <th>marital_status_code</th>\n",
       "      <th>income_desc</th>\n",
       "      <th>homeowner_desc</th>\n",
       "      <th>hh_comp_desc</th>\n",
       "      <th>household_size_desc</th>\n",
       "      <th>kid_category_desc</th>\n",
       "      <th>user_id</th>\n",
       "    </tr>\n",
       "  </thead>\n",
       "  <tbody>\n",
       "    <tr>\n",
       "      <th>0</th>\n",
       "      <td>65+</td>\n",
       "      <td>A</td>\n",
       "      <td>35-49K</td>\n",
       "      <td>Homeowner</td>\n",
       "      <td>2 Adults No Kids</td>\n",
       "      <td>2</td>\n",
       "      <td>None/Unknown</td>\n",
       "      <td>1</td>\n",
       "    </tr>\n",
       "    <tr>\n",
       "      <th>1</th>\n",
       "      <td>45-54</td>\n",
       "      <td>A</td>\n",
       "      <td>50-74K</td>\n",
       "      <td>Homeowner</td>\n",
       "      <td>2 Adults No Kids</td>\n",
       "      <td>2</td>\n",
       "      <td>None/Unknown</td>\n",
       "      <td>7</td>\n",
       "    </tr>\n",
       "  </tbody>\n",
       "</table>\n",
       "</div>"
      ],
      "text/plain": [
       "  age_desc marital_status_code income_desc homeowner_desc      hh_comp_desc  \\\n",
       "0      65+                   A      35-49K      Homeowner  2 Adults No Kids   \n",
       "1    45-54                   A      50-74K      Homeowner  2 Adults No Kids   \n",
       "\n",
       "  household_size_desc kid_category_desc  user_id  \n",
       "0                   2      None/Unknown        1  \n",
       "1                   2      None/Unknown        7  "
      ]
     },
     "execution_count": 36,
     "metadata": {},
     "output_type": "execute_result"
    }
   ],
   "source": [
    "user_features.head(2)"
   ]
  },
  {
   "cell_type": "code",
   "execution_count": 37,
   "id": "43c6d7f2",
   "metadata": {},
   "outputs": [
    {
     "data": {
      "text/html": [
       "<div>\n",
       "<style scoped>\n",
       "    .dataframe tbody tr th:only-of-type {\n",
       "        vertical-align: middle;\n",
       "    }\n",
       "\n",
       "    .dataframe tbody tr th {\n",
       "        vertical-align: top;\n",
       "    }\n",
       "\n",
       "    .dataframe thead th {\n",
       "        text-align: right;\n",
       "    }\n",
       "</style>\n",
       "<table border=\"1\" class=\"dataframe\">\n",
       "  <thead>\n",
       "    <tr style=\"text-align: right;\">\n",
       "      <th></th>\n",
       "      <th>user_id</th>\n",
       "      <th>item_id</th>\n",
       "      <th>target</th>\n",
       "      <th>manufacturer</th>\n",
       "      <th>department</th>\n",
       "      <th>brand</th>\n",
       "      <th>commodity_desc</th>\n",
       "      <th>sub_commodity_desc</th>\n",
       "      <th>curr_size_of_product</th>\n",
       "      <th>age_desc</th>\n",
       "      <th>marital_status_code</th>\n",
       "      <th>income_desc</th>\n",
       "      <th>homeowner_desc</th>\n",
       "      <th>hh_comp_desc</th>\n",
       "      <th>household_size_desc</th>\n",
       "      <th>kid_category_desc</th>\n",
       "    </tr>\n",
       "  </thead>\n",
       "  <tbody>\n",
       "    <tr>\n",
       "      <th>0</th>\n",
       "      <td>2070</td>\n",
       "      <td>1105426</td>\n",
       "      <td>0.0</td>\n",
       "      <td>69</td>\n",
       "      <td>DELI</td>\n",
       "      <td>Private</td>\n",
       "      <td>SANDWICHES</td>\n",
       "      <td>SANDWICHES - (COLD)</td>\n",
       "      <td></td>\n",
       "      <td>45-54</td>\n",
       "      <td>U</td>\n",
       "      <td>50-74K</td>\n",
       "      <td>Unknown</td>\n",
       "      <td>Unknown</td>\n",
       "      <td>1</td>\n",
       "      <td>None/Unknown</td>\n",
       "    </tr>\n",
       "    <tr>\n",
       "      <th>1</th>\n",
       "      <td>2070</td>\n",
       "      <td>1097350</td>\n",
       "      <td>0.0</td>\n",
       "      <td>2468</td>\n",
       "      <td>GROCERY</td>\n",
       "      <td>National</td>\n",
       "      <td>DOMESTIC WINE</td>\n",
       "      <td>VALUE GLASS WINE</td>\n",
       "      <td>4 LTR</td>\n",
       "      <td>45-54</td>\n",
       "      <td>U</td>\n",
       "      <td>50-74K</td>\n",
       "      <td>Unknown</td>\n",
       "      <td>Unknown</td>\n",
       "      <td>1</td>\n",
       "      <td>None/Unknown</td>\n",
       "    </tr>\n",
       "  </tbody>\n",
       "</table>\n",
       "</div>"
      ],
      "text/plain": [
       "   user_id  item_id  target  manufacturer department     brand commodity_desc  \\\n",
       "0     2070  1105426     0.0            69       DELI   Private     SANDWICHES   \n",
       "1     2070  1097350     0.0          2468    GROCERY  National  DOMESTIC WINE   \n",
       "\n",
       "    sub_commodity_desc curr_size_of_product age_desc marital_status_code  \\\n",
       "0  SANDWICHES - (COLD)                         45-54                   U   \n",
       "1     VALUE GLASS WINE                4 LTR    45-54                   U   \n",
       "\n",
       "  income_desc homeowner_desc hh_comp_desc household_size_desc  \\\n",
       "0      50-74K        Unknown      Unknown                   1   \n",
       "1      50-74K        Unknown      Unknown                   1   \n",
       "\n",
       "  kid_category_desc  \n",
       "0      None/Unknown  \n",
       "1      None/Unknown  "
      ]
     },
     "execution_count": 37,
     "metadata": {},
     "output_type": "execute_result"
    }
   ],
   "source": [
    "df_ranker_train = df_ranker_train.merge(item_features, on='item_id', how='left')\n",
    "df_ranker_train = df_ranker_train.merge(user_features, on='user_id', how='left')\n",
    "\n",
    "df_ranker_train.head(2)"
   ]
  },
  {
   "cell_type": "markdown",
   "id": "3eb4d3bb",
   "metadata": {},
   "source": [
    "**Задание 2.**\n",
    "\n",
    "Обучите модель 2-ого уровня, при этом:\n",
    "\n",
    "- Добавьте минимум по 2 фичи для юзера, товара и пары юзер-товар\n",
    "\n",
    "- Измерьте отдельно precision@5 модели 1-ого уровня и двухуровневой модели на data_val_ranker\n",
    "\n",
    "- Вырос ли precision@5 при использовании двухуровневой модели?"
   ]
  },
  {
   "cell_type": "code",
   "execution_count": 38,
   "id": "131201f2",
   "metadata": {},
   "outputs": [
    {
     "data": {
      "text/plain": [
       "['manufacturer',\n",
       " 'department',\n",
       " 'brand',\n",
       " 'commodity_desc',\n",
       " 'sub_commodity_desc',\n",
       " 'curr_size_of_product',\n",
       " 'age_desc',\n",
       " 'marital_status_code',\n",
       " 'income_desc',\n",
       " 'homeowner_desc',\n",
       " 'hh_comp_desc',\n",
       " 'household_size_desc',\n",
       " 'kid_category_desc']"
      ]
     },
     "execution_count": 38,
     "metadata": {},
     "output_type": "execute_result"
    }
   ],
   "source": [
    "cat_feats = df_ranker_train.columns[3:].tolist()\n",
    "\n",
    "cat_feats"
   ]
  },
  {
   "cell_type": "markdown",
   "id": "3d1eb292",
   "metadata": {},
   "source": [
    "### Средний чек"
   ]
  },
  {
   "cell_type": "code",
   "execution_count": 39,
   "id": "4bee82f5",
   "metadata": {},
   "outputs": [
    {
     "data": {
      "text/plain": [
       "user_id\n",
       "1       50.130533\n",
       "2       41.442045\n",
       "3       58.067727\n",
       "4       40.003667\n",
       "5       19.712895\n",
       "          ...    \n",
       "2496    69.411695\n",
       "2497    30.746965\n",
       "2498    16.165203\n",
       "2499    33.366071\n",
       "2500    50.205000\n",
       "Name: avg_bills, Length: 2499, dtype: float64"
      ]
     },
     "execution_count": 39,
     "metadata": {},
     "output_type": "execute_result"
    }
   ],
   "source": [
    "avg_bills = df_join_train_matcher.groupby(by=['user_id','basket_id']).agg('sales_value').sum().groupby('user_id').mean().rename(\"avg_bills\")\n",
    "avg_bills"
   ]
  },
  {
   "cell_type": "code",
   "execution_count": 40,
   "id": "023e0c2a",
   "metadata": {},
   "outputs": [],
   "source": [
    "df_ranker_train = df_ranker_train.merge(avg_bills, how='left',on='user_id')"
   ]
  },
  {
   "cell_type": "code",
   "execution_count": 41,
   "id": "cf9bdab1",
   "metadata": {},
   "outputs": [
    {
     "data": {
      "text/html": [
       "<div>\n",
       "<style scoped>\n",
       "    .dataframe tbody tr th:only-of-type {\n",
       "        vertical-align: middle;\n",
       "    }\n",
       "\n",
       "    .dataframe tbody tr th {\n",
       "        vertical-align: top;\n",
       "    }\n",
       "\n",
       "    .dataframe thead th {\n",
       "        text-align: right;\n",
       "    }\n",
       "</style>\n",
       "<table border=\"1\" class=\"dataframe\">\n",
       "  <thead>\n",
       "    <tr style=\"text-align: right;\">\n",
       "      <th></th>\n",
       "      <th>user_id</th>\n",
       "      <th>item_id</th>\n",
       "      <th>target</th>\n",
       "      <th>manufacturer</th>\n",
       "      <th>department</th>\n",
       "      <th>brand</th>\n",
       "      <th>commodity_desc</th>\n",
       "      <th>sub_commodity_desc</th>\n",
       "      <th>curr_size_of_product</th>\n",
       "      <th>age_desc</th>\n",
       "      <th>marital_status_code</th>\n",
       "      <th>income_desc</th>\n",
       "      <th>homeowner_desc</th>\n",
       "      <th>hh_comp_desc</th>\n",
       "      <th>household_size_desc</th>\n",
       "      <th>kid_category_desc</th>\n",
       "      <th>avg_bills</th>\n",
       "    </tr>\n",
       "  </thead>\n",
       "  <tbody>\n",
       "    <tr>\n",
       "      <th>0</th>\n",
       "      <td>2070</td>\n",
       "      <td>1105426</td>\n",
       "      <td>0.0</td>\n",
       "      <td>69</td>\n",
       "      <td>DELI</td>\n",
       "      <td>Private</td>\n",
       "      <td>SANDWICHES</td>\n",
       "      <td>SANDWICHES - (COLD)</td>\n",
       "      <td></td>\n",
       "      <td>45-54</td>\n",
       "      <td>U</td>\n",
       "      <td>50-74K</td>\n",
       "      <td>Unknown</td>\n",
       "      <td>Unknown</td>\n",
       "      <td>1</td>\n",
       "      <td>None/Unknown</td>\n",
       "      <td>11.816961</td>\n",
       "    </tr>\n",
       "    <tr>\n",
       "      <th>1</th>\n",
       "      <td>2070</td>\n",
       "      <td>1097350</td>\n",
       "      <td>0.0</td>\n",
       "      <td>2468</td>\n",
       "      <td>GROCERY</td>\n",
       "      <td>National</td>\n",
       "      <td>DOMESTIC WINE</td>\n",
       "      <td>VALUE GLASS WINE</td>\n",
       "      <td>4 LTR</td>\n",
       "      <td>45-54</td>\n",
       "      <td>U</td>\n",
       "      <td>50-74K</td>\n",
       "      <td>Unknown</td>\n",
       "      <td>Unknown</td>\n",
       "      <td>1</td>\n",
       "      <td>None/Unknown</td>\n",
       "      <td>11.816961</td>\n",
       "    </tr>\n",
       "    <tr>\n",
       "      <th>2</th>\n",
       "      <td>2070</td>\n",
       "      <td>879194</td>\n",
       "      <td>0.0</td>\n",
       "      <td>69</td>\n",
       "      <td>DRUG GM</td>\n",
       "      <td>Private</td>\n",
       "      <td>DIAPERS &amp; DISPOSABLES</td>\n",
       "      <td>BABY DIAPERS</td>\n",
       "      <td>14 CT</td>\n",
       "      <td>45-54</td>\n",
       "      <td>U</td>\n",
       "      <td>50-74K</td>\n",
       "      <td>Unknown</td>\n",
       "      <td>Unknown</td>\n",
       "      <td>1</td>\n",
       "      <td>None/Unknown</td>\n",
       "      <td>11.816961</td>\n",
       "    </tr>\n",
       "    <tr>\n",
       "      <th>3</th>\n",
       "      <td>2070</td>\n",
       "      <td>948640</td>\n",
       "      <td>0.0</td>\n",
       "      <td>1213</td>\n",
       "      <td>DRUG GM</td>\n",
       "      <td>National</td>\n",
       "      <td>ORAL HYGIENE PRODUCTS</td>\n",
       "      <td>WHITENING SYSTEMS</td>\n",
       "      <td>3 OZ</td>\n",
       "      <td>45-54</td>\n",
       "      <td>U</td>\n",
       "      <td>50-74K</td>\n",
       "      <td>Unknown</td>\n",
       "      <td>Unknown</td>\n",
       "      <td>1</td>\n",
       "      <td>None/Unknown</td>\n",
       "      <td>11.816961</td>\n",
       "    </tr>\n",
       "    <tr>\n",
       "      <th>4</th>\n",
       "      <td>2070</td>\n",
       "      <td>928263</td>\n",
       "      <td>0.0</td>\n",
       "      <td>69</td>\n",
       "      <td>DRUG GM</td>\n",
       "      <td>Private</td>\n",
       "      <td>DIAPERS &amp; DISPOSABLES</td>\n",
       "      <td>BABY DIAPERS</td>\n",
       "      <td>13 CT</td>\n",
       "      <td>45-54</td>\n",
       "      <td>U</td>\n",
       "      <td>50-74K</td>\n",
       "      <td>Unknown</td>\n",
       "      <td>Unknown</td>\n",
       "      <td>1</td>\n",
       "      <td>None/Unknown</td>\n",
       "      <td>11.816961</td>\n",
       "    </tr>\n",
       "  </tbody>\n",
       "</table>\n",
       "</div>"
      ],
      "text/plain": [
       "   user_id  item_id  target  manufacturer department     brand  \\\n",
       "0     2070  1105426     0.0            69       DELI   Private   \n",
       "1     2070  1097350     0.0          2468    GROCERY  National   \n",
       "2     2070   879194     0.0            69    DRUG GM   Private   \n",
       "3     2070   948640     0.0          1213    DRUG GM  National   \n",
       "4     2070   928263     0.0            69    DRUG GM   Private   \n",
       "\n",
       "          commodity_desc   sub_commodity_desc curr_size_of_product age_desc  \\\n",
       "0             SANDWICHES  SANDWICHES - (COLD)                         45-54   \n",
       "1          DOMESTIC WINE     VALUE GLASS WINE                4 LTR    45-54   \n",
       "2  DIAPERS & DISPOSABLES         BABY DIAPERS                14 CT    45-54   \n",
       "3  ORAL HYGIENE PRODUCTS    WHITENING SYSTEMS                 3 OZ    45-54   \n",
       "4  DIAPERS & DISPOSABLES         BABY DIAPERS                13 CT    45-54   \n",
       "\n",
       "  marital_status_code income_desc homeowner_desc hh_comp_desc  \\\n",
       "0                   U      50-74K        Unknown      Unknown   \n",
       "1                   U      50-74K        Unknown      Unknown   \n",
       "2                   U      50-74K        Unknown      Unknown   \n",
       "3                   U      50-74K        Unknown      Unknown   \n",
       "4                   U      50-74K        Unknown      Unknown   \n",
       "\n",
       "  household_size_desc kid_category_desc  avg_bills  \n",
       "0                   1      None/Unknown  11.816961  \n",
       "1                   1      None/Unknown  11.816961  \n",
       "2                   1      None/Unknown  11.816961  \n",
       "3                   1      None/Unknown  11.816961  \n",
       "4                   1      None/Unknown  11.816961  "
      ]
     },
     "execution_count": 41,
     "metadata": {},
     "output_type": "execute_result"
    }
   ],
   "source": [
    "df_ranker_train.head()"
   ]
  },
  {
   "cell_type": "markdown",
   "id": "3926cd12",
   "metadata": {},
   "source": [
    "### Количество покупок"
   ]
  },
  {
   "cell_type": "code",
   "execution_count": 42,
   "id": "ffef3de3",
   "metadata": {},
   "outputs": [
    {
     "data": {
      "text/plain": [
       "user_id\n",
       "1       1507\n",
       "2        655\n",
       "3        870\n",
       "4        301\n",
       "5        219\n",
       "        ... \n",
       "2496    1419\n",
       "2497    1776\n",
       "2498     793\n",
       "2499     943\n",
       "2500    1225\n",
       "Name: count_bills, Length: 2499, dtype: int64"
      ]
     },
     "execution_count": 42,
     "metadata": {},
     "output_type": "execute_result"
    }
   ],
   "source": [
    "count_bills = df_join_train_matcher.groupby(by=['user_id']).agg('basket_id').count().rename(\"count_bills\")\n",
    "count_bills"
   ]
  },
  {
   "cell_type": "code",
   "execution_count": 43,
   "id": "7213e275",
   "metadata": {},
   "outputs": [],
   "source": [
    "df_ranker_train = df_ranker_train.merge(count_bills, how='left',on='user_id')"
   ]
  },
  {
   "cell_type": "code",
   "execution_count": 44,
   "id": "133b86ac",
   "metadata": {
    "scrolled": true
   },
   "outputs": [
    {
     "data": {
      "text/html": [
       "<div>\n",
       "<style scoped>\n",
       "    .dataframe tbody tr th:only-of-type {\n",
       "        vertical-align: middle;\n",
       "    }\n",
       "\n",
       "    .dataframe tbody tr th {\n",
       "        vertical-align: top;\n",
       "    }\n",
       "\n",
       "    .dataframe thead th {\n",
       "        text-align: right;\n",
       "    }\n",
       "</style>\n",
       "<table border=\"1\" class=\"dataframe\">\n",
       "  <thead>\n",
       "    <tr style=\"text-align: right;\">\n",
       "      <th></th>\n",
       "      <th>user_id</th>\n",
       "      <th>item_id</th>\n",
       "      <th>target</th>\n",
       "      <th>manufacturer</th>\n",
       "      <th>department</th>\n",
       "      <th>brand</th>\n",
       "      <th>commodity_desc</th>\n",
       "      <th>sub_commodity_desc</th>\n",
       "      <th>curr_size_of_product</th>\n",
       "      <th>age_desc</th>\n",
       "      <th>marital_status_code</th>\n",
       "      <th>income_desc</th>\n",
       "      <th>homeowner_desc</th>\n",
       "      <th>hh_comp_desc</th>\n",
       "      <th>household_size_desc</th>\n",
       "      <th>kid_category_desc</th>\n",
       "      <th>avg_bills</th>\n",
       "      <th>count_bills</th>\n",
       "    </tr>\n",
       "  </thead>\n",
       "  <tbody>\n",
       "    <tr>\n",
       "      <th>0</th>\n",
       "      <td>2070</td>\n",
       "      <td>1105426</td>\n",
       "      <td>0.0</td>\n",
       "      <td>69</td>\n",
       "      <td>DELI</td>\n",
       "      <td>Private</td>\n",
       "      <td>SANDWICHES</td>\n",
       "      <td>SANDWICHES - (COLD)</td>\n",
       "      <td></td>\n",
       "      <td>45-54</td>\n",
       "      <td>U</td>\n",
       "      <td>50-74K</td>\n",
       "      <td>Unknown</td>\n",
       "      <td>Unknown</td>\n",
       "      <td>1</td>\n",
       "      <td>None/Unknown</td>\n",
       "      <td>11.816961</td>\n",
       "      <td>1996</td>\n",
       "    </tr>\n",
       "    <tr>\n",
       "      <th>1</th>\n",
       "      <td>2070</td>\n",
       "      <td>1097350</td>\n",
       "      <td>0.0</td>\n",
       "      <td>2468</td>\n",
       "      <td>GROCERY</td>\n",
       "      <td>National</td>\n",
       "      <td>DOMESTIC WINE</td>\n",
       "      <td>VALUE GLASS WINE</td>\n",
       "      <td>4 LTR</td>\n",
       "      <td>45-54</td>\n",
       "      <td>U</td>\n",
       "      <td>50-74K</td>\n",
       "      <td>Unknown</td>\n",
       "      <td>Unknown</td>\n",
       "      <td>1</td>\n",
       "      <td>None/Unknown</td>\n",
       "      <td>11.816961</td>\n",
       "      <td>1996</td>\n",
       "    </tr>\n",
       "    <tr>\n",
       "      <th>2</th>\n",
       "      <td>2070</td>\n",
       "      <td>879194</td>\n",
       "      <td>0.0</td>\n",
       "      <td>69</td>\n",
       "      <td>DRUG GM</td>\n",
       "      <td>Private</td>\n",
       "      <td>DIAPERS &amp; DISPOSABLES</td>\n",
       "      <td>BABY DIAPERS</td>\n",
       "      <td>14 CT</td>\n",
       "      <td>45-54</td>\n",
       "      <td>U</td>\n",
       "      <td>50-74K</td>\n",
       "      <td>Unknown</td>\n",
       "      <td>Unknown</td>\n",
       "      <td>1</td>\n",
       "      <td>None/Unknown</td>\n",
       "      <td>11.816961</td>\n",
       "      <td>1996</td>\n",
       "    </tr>\n",
       "    <tr>\n",
       "      <th>3</th>\n",
       "      <td>2070</td>\n",
       "      <td>948640</td>\n",
       "      <td>0.0</td>\n",
       "      <td>1213</td>\n",
       "      <td>DRUG GM</td>\n",
       "      <td>National</td>\n",
       "      <td>ORAL HYGIENE PRODUCTS</td>\n",
       "      <td>WHITENING SYSTEMS</td>\n",
       "      <td>3 OZ</td>\n",
       "      <td>45-54</td>\n",
       "      <td>U</td>\n",
       "      <td>50-74K</td>\n",
       "      <td>Unknown</td>\n",
       "      <td>Unknown</td>\n",
       "      <td>1</td>\n",
       "      <td>None/Unknown</td>\n",
       "      <td>11.816961</td>\n",
       "      <td>1996</td>\n",
       "    </tr>\n",
       "    <tr>\n",
       "      <th>4</th>\n",
       "      <td>2070</td>\n",
       "      <td>928263</td>\n",
       "      <td>0.0</td>\n",
       "      <td>69</td>\n",
       "      <td>DRUG GM</td>\n",
       "      <td>Private</td>\n",
       "      <td>DIAPERS &amp; DISPOSABLES</td>\n",
       "      <td>BABY DIAPERS</td>\n",
       "      <td>13 CT</td>\n",
       "      <td>45-54</td>\n",
       "      <td>U</td>\n",
       "      <td>50-74K</td>\n",
       "      <td>Unknown</td>\n",
       "      <td>Unknown</td>\n",
       "      <td>1</td>\n",
       "      <td>None/Unknown</td>\n",
       "      <td>11.816961</td>\n",
       "      <td>1996</td>\n",
       "    </tr>\n",
       "  </tbody>\n",
       "</table>\n",
       "</div>"
      ],
      "text/plain": [
       "   user_id  item_id  target  manufacturer department     brand  \\\n",
       "0     2070  1105426     0.0            69       DELI   Private   \n",
       "1     2070  1097350     0.0          2468    GROCERY  National   \n",
       "2     2070   879194     0.0            69    DRUG GM   Private   \n",
       "3     2070   948640     0.0          1213    DRUG GM  National   \n",
       "4     2070   928263     0.0            69    DRUG GM   Private   \n",
       "\n",
       "          commodity_desc   sub_commodity_desc curr_size_of_product age_desc  \\\n",
       "0             SANDWICHES  SANDWICHES - (COLD)                         45-54   \n",
       "1          DOMESTIC WINE     VALUE GLASS WINE                4 LTR    45-54   \n",
       "2  DIAPERS & DISPOSABLES         BABY DIAPERS                14 CT    45-54   \n",
       "3  ORAL HYGIENE PRODUCTS    WHITENING SYSTEMS                 3 OZ    45-54   \n",
       "4  DIAPERS & DISPOSABLES         BABY DIAPERS                13 CT    45-54   \n",
       "\n",
       "  marital_status_code income_desc homeowner_desc hh_comp_desc  \\\n",
       "0                   U      50-74K        Unknown      Unknown   \n",
       "1                   U      50-74K        Unknown      Unknown   \n",
       "2                   U      50-74K        Unknown      Unknown   \n",
       "3                   U      50-74K        Unknown      Unknown   \n",
       "4                   U      50-74K        Unknown      Unknown   \n",
       "\n",
       "  household_size_desc kid_category_desc  avg_bills  count_bills  \n",
       "0                   1      None/Unknown  11.816961         1996  \n",
       "1                   1      None/Unknown  11.816961         1996  \n",
       "2                   1      None/Unknown  11.816961         1996  \n",
       "3                   1      None/Unknown  11.816961         1996  \n",
       "4                   1      None/Unknown  11.816961         1996  "
      ]
     },
     "execution_count": 44,
     "metadata": {},
     "output_type": "execute_result"
    }
   ],
   "source": [
    "df_ranker_train.head()"
   ]
  },
  {
   "cell_type": "markdown",
   "id": "dd8024bf",
   "metadata": {},
   "source": [
    "### Среднее количество покупок одного товара в неделю"
   ]
  },
  {
   "cell_type": "code",
   "execution_count": 45,
   "id": "dd4545ef",
   "metadata": {},
   "outputs": [
    {
     "data": {
      "text/plain": [
       "245209"
      ]
     },
     "execution_count": 45,
     "metadata": {},
     "output_type": "execute_result"
    }
   ],
   "source": [
    "count_weeks = df_join_train_matcher.basket_id.nunique()\n",
    "count_weeks"
   ]
  },
  {
   "cell_type": "code",
   "execution_count": 46,
   "id": "05ab98da",
   "metadata": {},
   "outputs": [
    {
     "data": {
      "text/plain": [
       "item_id\n",
       "25671       0.000024\n",
       "26081       0.000004\n",
       "26093       0.000004\n",
       "26190       0.000004\n",
       "26355       0.000008\n",
       "              ...   \n",
       "17381856    0.000000\n",
       "17382205    0.000004\n",
       "17383227    0.000004\n",
       "17827644    0.000004\n",
       "17829232    0.000008\n",
       "Name: count_bills_by_week, Length: 86865, dtype: float64"
      ]
     },
     "execution_count": 46,
     "metadata": {},
     "output_type": "execute_result"
    }
   ],
   "source": [
    "count_bills_by_week = df_join_train_matcher.groupby(by=['item_id']).agg('quantity').sum().rename(\"count_bills_by_week\")/count_weeks\n",
    "count_bills_by_week"
   ]
  },
  {
   "cell_type": "code",
   "execution_count": 47,
   "id": "0ec7b171",
   "metadata": {},
   "outputs": [],
   "source": [
    "df_ranker_train = df_ranker_train.merge(count_bills_by_week, how='left',on='item_id')"
   ]
  },
  {
   "cell_type": "code",
   "execution_count": 48,
   "id": "41f60b21",
   "metadata": {
    "scrolled": true
   },
   "outputs": [
    {
     "data": {
      "text/html": [
       "<div>\n",
       "<style scoped>\n",
       "    .dataframe tbody tr th:only-of-type {\n",
       "        vertical-align: middle;\n",
       "    }\n",
       "\n",
       "    .dataframe tbody tr th {\n",
       "        vertical-align: top;\n",
       "    }\n",
       "\n",
       "    .dataframe thead th {\n",
       "        text-align: right;\n",
       "    }\n",
       "</style>\n",
       "<table border=\"1\" class=\"dataframe\">\n",
       "  <thead>\n",
       "    <tr style=\"text-align: right;\">\n",
       "      <th></th>\n",
       "      <th>user_id</th>\n",
       "      <th>item_id</th>\n",
       "      <th>target</th>\n",
       "      <th>manufacturer</th>\n",
       "      <th>department</th>\n",
       "      <th>brand</th>\n",
       "      <th>commodity_desc</th>\n",
       "      <th>sub_commodity_desc</th>\n",
       "      <th>curr_size_of_product</th>\n",
       "      <th>age_desc</th>\n",
       "      <th>marital_status_code</th>\n",
       "      <th>income_desc</th>\n",
       "      <th>homeowner_desc</th>\n",
       "      <th>hh_comp_desc</th>\n",
       "      <th>household_size_desc</th>\n",
       "      <th>kid_category_desc</th>\n",
       "      <th>avg_bills</th>\n",
       "      <th>count_bills</th>\n",
       "      <th>count_bills_by_week</th>\n",
       "    </tr>\n",
       "  </thead>\n",
       "  <tbody>\n",
       "    <tr>\n",
       "      <th>0</th>\n",
       "      <td>2070</td>\n",
       "      <td>1105426</td>\n",
       "      <td>0.0</td>\n",
       "      <td>69</td>\n",
       "      <td>DELI</td>\n",
       "      <td>Private</td>\n",
       "      <td>SANDWICHES</td>\n",
       "      <td>SANDWICHES - (COLD)</td>\n",
       "      <td></td>\n",
       "      <td>45-54</td>\n",
       "      <td>U</td>\n",
       "      <td>50-74K</td>\n",
       "      <td>Unknown</td>\n",
       "      <td>Unknown</td>\n",
       "      <td>1</td>\n",
       "      <td>None/Unknown</td>\n",
       "      <td>11.816961</td>\n",
       "      <td>1996</td>\n",
       "      <td>0.000461</td>\n",
       "    </tr>\n",
       "    <tr>\n",
       "      <th>1</th>\n",
       "      <td>2070</td>\n",
       "      <td>1097350</td>\n",
       "      <td>0.0</td>\n",
       "      <td>2468</td>\n",
       "      <td>GROCERY</td>\n",
       "      <td>National</td>\n",
       "      <td>DOMESTIC WINE</td>\n",
       "      <td>VALUE GLASS WINE</td>\n",
       "      <td>4 LTR</td>\n",
       "      <td>45-54</td>\n",
       "      <td>U</td>\n",
       "      <td>50-74K</td>\n",
       "      <td>Unknown</td>\n",
       "      <td>Unknown</td>\n",
       "      <td>1</td>\n",
       "      <td>None/Unknown</td>\n",
       "      <td>11.816961</td>\n",
       "      <td>1996</td>\n",
       "      <td>0.000220</td>\n",
       "    </tr>\n",
       "    <tr>\n",
       "      <th>2</th>\n",
       "      <td>2070</td>\n",
       "      <td>879194</td>\n",
       "      <td>0.0</td>\n",
       "      <td>69</td>\n",
       "      <td>DRUG GM</td>\n",
       "      <td>Private</td>\n",
       "      <td>DIAPERS &amp; DISPOSABLES</td>\n",
       "      <td>BABY DIAPERS</td>\n",
       "      <td>14 CT</td>\n",
       "      <td>45-54</td>\n",
       "      <td>U</td>\n",
       "      <td>50-74K</td>\n",
       "      <td>Unknown</td>\n",
       "      <td>Unknown</td>\n",
       "      <td>1</td>\n",
       "      <td>None/Unknown</td>\n",
       "      <td>11.816961</td>\n",
       "      <td>1996</td>\n",
       "      <td>0.000220</td>\n",
       "    </tr>\n",
       "    <tr>\n",
       "      <th>3</th>\n",
       "      <td>2070</td>\n",
       "      <td>948640</td>\n",
       "      <td>0.0</td>\n",
       "      <td>1213</td>\n",
       "      <td>DRUG GM</td>\n",
       "      <td>National</td>\n",
       "      <td>ORAL HYGIENE PRODUCTS</td>\n",
       "      <td>WHITENING SYSTEMS</td>\n",
       "      <td>3 OZ</td>\n",
       "      <td>45-54</td>\n",
       "      <td>U</td>\n",
       "      <td>50-74K</td>\n",
       "      <td>Unknown</td>\n",
       "      <td>Unknown</td>\n",
       "      <td>1</td>\n",
       "      <td>None/Unknown</td>\n",
       "      <td>11.816961</td>\n",
       "      <td>1996</td>\n",
       "      <td>0.000200</td>\n",
       "    </tr>\n",
       "    <tr>\n",
       "      <th>4</th>\n",
       "      <td>2070</td>\n",
       "      <td>928263</td>\n",
       "      <td>0.0</td>\n",
       "      <td>69</td>\n",
       "      <td>DRUG GM</td>\n",
       "      <td>Private</td>\n",
       "      <td>DIAPERS &amp; DISPOSABLES</td>\n",
       "      <td>BABY DIAPERS</td>\n",
       "      <td>13 CT</td>\n",
       "      <td>45-54</td>\n",
       "      <td>U</td>\n",
       "      <td>50-74K</td>\n",
       "      <td>Unknown</td>\n",
       "      <td>Unknown</td>\n",
       "      <td>1</td>\n",
       "      <td>None/Unknown</td>\n",
       "      <td>11.816961</td>\n",
       "      <td>1996</td>\n",
       "      <td>0.000241</td>\n",
       "    </tr>\n",
       "  </tbody>\n",
       "</table>\n",
       "</div>"
      ],
      "text/plain": [
       "   user_id  item_id  target  manufacturer department     brand  \\\n",
       "0     2070  1105426     0.0            69       DELI   Private   \n",
       "1     2070  1097350     0.0          2468    GROCERY  National   \n",
       "2     2070   879194     0.0            69    DRUG GM   Private   \n",
       "3     2070   948640     0.0          1213    DRUG GM  National   \n",
       "4     2070   928263     0.0            69    DRUG GM   Private   \n",
       "\n",
       "          commodity_desc   sub_commodity_desc curr_size_of_product age_desc  \\\n",
       "0             SANDWICHES  SANDWICHES - (COLD)                         45-54   \n",
       "1          DOMESTIC WINE     VALUE GLASS WINE                4 LTR    45-54   \n",
       "2  DIAPERS & DISPOSABLES         BABY DIAPERS                14 CT    45-54   \n",
       "3  ORAL HYGIENE PRODUCTS    WHITENING SYSTEMS                 3 OZ    45-54   \n",
       "4  DIAPERS & DISPOSABLES         BABY DIAPERS                13 CT    45-54   \n",
       "\n",
       "  marital_status_code income_desc homeowner_desc hh_comp_desc  \\\n",
       "0                   U      50-74K        Unknown      Unknown   \n",
       "1                   U      50-74K        Unknown      Unknown   \n",
       "2                   U      50-74K        Unknown      Unknown   \n",
       "3                   U      50-74K        Unknown      Unknown   \n",
       "4                   U      50-74K        Unknown      Unknown   \n",
       "\n",
       "  household_size_desc kid_category_desc  avg_bills  count_bills  \\\n",
       "0                   1      None/Unknown  11.816961         1996   \n",
       "1                   1      None/Unknown  11.816961         1996   \n",
       "2                   1      None/Unknown  11.816961         1996   \n",
       "3                   1      None/Unknown  11.816961         1996   \n",
       "4                   1      None/Unknown  11.816961         1996   \n",
       "\n",
       "   count_bills_by_week  \n",
       "0             0.000461  \n",
       "1             0.000220  \n",
       "2             0.000220  \n",
       "3             0.000200  \n",
       "4             0.000241  "
      ]
     },
     "execution_count": 48,
     "metadata": {},
     "output_type": "execute_result"
    }
   ],
   "source": [
    "df_ranker_train.head()"
   ]
  },
  {
   "cell_type": "markdown",
   "id": "f0c78804",
   "metadata": {},
   "source": [
    "### Количество пользователей купивших товар"
   ]
  },
  {
   "cell_type": "code",
   "execution_count": 49,
   "id": "2bfa25d4",
   "metadata": {},
   "outputs": [
    {
     "data": {
      "text/plain": [
       "item_id\n",
       "25671       3\n",
       "26081       1\n",
       "26093       1\n",
       "26190       1\n",
       "26355       1\n",
       "           ..\n",
       "17381856    1\n",
       "17382205    1\n",
       "17383227    1\n",
       "17827644    1\n",
       "17829232    2\n",
       "Name: count_user, Length: 86865, dtype: int64"
      ]
     },
     "execution_count": 49,
     "metadata": {},
     "output_type": "execute_result"
    }
   ],
   "source": [
    "count_user = df_join_train_matcher.groupby(by=['item_id']).agg('user_id').count().rename(\"count_user\")\n",
    "count_user"
   ]
  },
  {
   "cell_type": "code",
   "execution_count": 50,
   "id": "77e709d2",
   "metadata": {},
   "outputs": [],
   "source": [
    "df_ranker_train = df_ranker_train.merge(count_user, how='left',on='item_id')"
   ]
  },
  {
   "cell_type": "code",
   "execution_count": 51,
   "id": "4bc1fff8",
   "metadata": {},
   "outputs": [
    {
     "data": {
      "text/html": [
       "<div>\n",
       "<style scoped>\n",
       "    .dataframe tbody tr th:only-of-type {\n",
       "        vertical-align: middle;\n",
       "    }\n",
       "\n",
       "    .dataframe tbody tr th {\n",
       "        vertical-align: top;\n",
       "    }\n",
       "\n",
       "    .dataframe thead th {\n",
       "        text-align: right;\n",
       "    }\n",
       "</style>\n",
       "<table border=\"1\" class=\"dataframe\">\n",
       "  <thead>\n",
       "    <tr style=\"text-align: right;\">\n",
       "      <th></th>\n",
       "      <th>user_id</th>\n",
       "      <th>item_id</th>\n",
       "      <th>target</th>\n",
       "      <th>manufacturer</th>\n",
       "      <th>department</th>\n",
       "      <th>brand</th>\n",
       "      <th>commodity_desc</th>\n",
       "      <th>sub_commodity_desc</th>\n",
       "      <th>curr_size_of_product</th>\n",
       "      <th>age_desc</th>\n",
       "      <th>marital_status_code</th>\n",
       "      <th>income_desc</th>\n",
       "      <th>homeowner_desc</th>\n",
       "      <th>hh_comp_desc</th>\n",
       "      <th>household_size_desc</th>\n",
       "      <th>kid_category_desc</th>\n",
       "      <th>avg_bills</th>\n",
       "      <th>count_bills</th>\n",
       "      <th>count_bills_by_week</th>\n",
       "      <th>count_user</th>\n",
       "    </tr>\n",
       "  </thead>\n",
       "  <tbody>\n",
       "    <tr>\n",
       "      <th>0</th>\n",
       "      <td>2070</td>\n",
       "      <td>1105426</td>\n",
       "      <td>0.0</td>\n",
       "      <td>69</td>\n",
       "      <td>DELI</td>\n",
       "      <td>Private</td>\n",
       "      <td>SANDWICHES</td>\n",
       "      <td>SANDWICHES - (COLD)</td>\n",
       "      <td></td>\n",
       "      <td>45-54</td>\n",
       "      <td>U</td>\n",
       "      <td>50-74K</td>\n",
       "      <td>Unknown</td>\n",
       "      <td>Unknown</td>\n",
       "      <td>1</td>\n",
       "      <td>None/Unknown</td>\n",
       "      <td>11.816961</td>\n",
       "      <td>1996</td>\n",
       "      <td>0.000461</td>\n",
       "      <td>99</td>\n",
       "    </tr>\n",
       "    <tr>\n",
       "      <th>1</th>\n",
       "      <td>2070</td>\n",
       "      <td>1097350</td>\n",
       "      <td>0.0</td>\n",
       "      <td>2468</td>\n",
       "      <td>GROCERY</td>\n",
       "      <td>National</td>\n",
       "      <td>DOMESTIC WINE</td>\n",
       "      <td>VALUE GLASS WINE</td>\n",
       "      <td>4 LTR</td>\n",
       "      <td>45-54</td>\n",
       "      <td>U</td>\n",
       "      <td>50-74K</td>\n",
       "      <td>Unknown</td>\n",
       "      <td>Unknown</td>\n",
       "      <td>1</td>\n",
       "      <td>None/Unknown</td>\n",
       "      <td>11.816961</td>\n",
       "      <td>1996</td>\n",
       "      <td>0.000220</td>\n",
       "      <td>51</td>\n",
       "    </tr>\n",
       "    <tr>\n",
       "      <th>2</th>\n",
       "      <td>2070</td>\n",
       "      <td>879194</td>\n",
       "      <td>0.0</td>\n",
       "      <td>69</td>\n",
       "      <td>DRUG GM</td>\n",
       "      <td>Private</td>\n",
       "      <td>DIAPERS &amp; DISPOSABLES</td>\n",
       "      <td>BABY DIAPERS</td>\n",
       "      <td>14 CT</td>\n",
       "      <td>45-54</td>\n",
       "      <td>U</td>\n",
       "      <td>50-74K</td>\n",
       "      <td>Unknown</td>\n",
       "      <td>Unknown</td>\n",
       "      <td>1</td>\n",
       "      <td>None/Unknown</td>\n",
       "      <td>11.816961</td>\n",
       "      <td>1996</td>\n",
       "      <td>0.000220</td>\n",
       "      <td>46</td>\n",
       "    </tr>\n",
       "    <tr>\n",
       "      <th>3</th>\n",
       "      <td>2070</td>\n",
       "      <td>948640</td>\n",
       "      <td>0.0</td>\n",
       "      <td>1213</td>\n",
       "      <td>DRUG GM</td>\n",
       "      <td>National</td>\n",
       "      <td>ORAL HYGIENE PRODUCTS</td>\n",
       "      <td>WHITENING SYSTEMS</td>\n",
       "      <td>3 OZ</td>\n",
       "      <td>45-54</td>\n",
       "      <td>U</td>\n",
       "      <td>50-74K</td>\n",
       "      <td>Unknown</td>\n",
       "      <td>Unknown</td>\n",
       "      <td>1</td>\n",
       "      <td>None/Unknown</td>\n",
       "      <td>11.816961</td>\n",
       "      <td>1996</td>\n",
       "      <td>0.000200</td>\n",
       "      <td>44</td>\n",
       "    </tr>\n",
       "    <tr>\n",
       "      <th>4</th>\n",
       "      <td>2070</td>\n",
       "      <td>928263</td>\n",
       "      <td>0.0</td>\n",
       "      <td>69</td>\n",
       "      <td>DRUG GM</td>\n",
       "      <td>Private</td>\n",
       "      <td>DIAPERS &amp; DISPOSABLES</td>\n",
       "      <td>BABY DIAPERS</td>\n",
       "      <td>13 CT</td>\n",
       "      <td>45-54</td>\n",
       "      <td>U</td>\n",
       "      <td>50-74K</td>\n",
       "      <td>Unknown</td>\n",
       "      <td>Unknown</td>\n",
       "      <td>1</td>\n",
       "      <td>None/Unknown</td>\n",
       "      <td>11.816961</td>\n",
       "      <td>1996</td>\n",
       "      <td>0.000241</td>\n",
       "      <td>53</td>\n",
       "    </tr>\n",
       "  </tbody>\n",
       "</table>\n",
       "</div>"
      ],
      "text/plain": [
       "   user_id  item_id  target  manufacturer department     brand  \\\n",
       "0     2070  1105426     0.0            69       DELI   Private   \n",
       "1     2070  1097350     0.0          2468    GROCERY  National   \n",
       "2     2070   879194     0.0            69    DRUG GM   Private   \n",
       "3     2070   948640     0.0          1213    DRUG GM  National   \n",
       "4     2070   928263     0.0            69    DRUG GM   Private   \n",
       "\n",
       "          commodity_desc   sub_commodity_desc curr_size_of_product age_desc  \\\n",
       "0             SANDWICHES  SANDWICHES - (COLD)                         45-54   \n",
       "1          DOMESTIC WINE     VALUE GLASS WINE                4 LTR    45-54   \n",
       "2  DIAPERS & DISPOSABLES         BABY DIAPERS                14 CT    45-54   \n",
       "3  ORAL HYGIENE PRODUCTS    WHITENING SYSTEMS                 3 OZ    45-54   \n",
       "4  DIAPERS & DISPOSABLES         BABY DIAPERS                13 CT    45-54   \n",
       "\n",
       "  marital_status_code income_desc homeowner_desc hh_comp_desc  \\\n",
       "0                   U      50-74K        Unknown      Unknown   \n",
       "1                   U      50-74K        Unknown      Unknown   \n",
       "2                   U      50-74K        Unknown      Unknown   \n",
       "3                   U      50-74K        Unknown      Unknown   \n",
       "4                   U      50-74K        Unknown      Unknown   \n",
       "\n",
       "  household_size_desc kid_category_desc  avg_bills  count_bills  \\\n",
       "0                   1      None/Unknown  11.816961         1996   \n",
       "1                   1      None/Unknown  11.816961         1996   \n",
       "2                   1      None/Unknown  11.816961         1996   \n",
       "3                   1      None/Unknown  11.816961         1996   \n",
       "4                   1      None/Unknown  11.816961         1996   \n",
       "\n",
       "   count_bills_by_week  count_user  \n",
       "0             0.000461          99  \n",
       "1             0.000220          51  \n",
       "2             0.000220          46  \n",
       "3             0.000200          44  \n",
       "4             0.000241          53  "
      ]
     },
     "execution_count": 51,
     "metadata": {},
     "output_type": "execute_result"
    }
   ],
   "source": [
    "df_ranker_train.head()"
   ]
  },
  {
   "cell_type": "code",
   "execution_count": 52,
   "id": "9e4e011b",
   "metadata": {},
   "outputs": [],
   "source": [
    "X_train = df_ranker_train.drop('target', axis=1)\n",
    "y_train = df_ranker_train[['target']]"
   ]
  },
  {
   "cell_type": "code",
   "execution_count": 53,
   "id": "d2211798",
   "metadata": {},
   "outputs": [],
   "source": [
    "X_train[cat_feats] = X_train[cat_feats].astype('category')"
   ]
  },
  {
   "cell_type": "code",
   "execution_count": 54,
   "id": "b507a058",
   "metadata": {},
   "outputs": [
    {
     "name": "stderr",
     "output_type": "stream",
     "text": [
      "C:\\Users\\fedic\\anaconda3\\lib\\site-packages\\sklearn\\preprocessing\\_label.py:98: DataConversionWarning: A column-vector y was passed when a 1d array was expected. Please change the shape of y to (n_samples, ), for example using ravel().\n",
      "  y = column_or_1d(y, warn=True)\n",
      "C:\\Users\\fedic\\anaconda3\\lib\\site-packages\\sklearn\\preprocessing\\_label.py:133: DataConversionWarning: A column-vector y was passed when a 1d array was expected. Please change the shape of y to (n_samples, ), for example using ravel().\n",
      "  y = column_or_1d(y, warn=True)\n",
      "C:\\Users\\fedic\\anaconda3\\lib\\site-packages\\lightgbm\\basic.py:1513: UserWarning: categorical_column in param dict is overridden.\n",
      "  _log_warning(f'{cat_alias} in param dict is overridden.')\n"
     ]
    }
   ],
   "source": [
    "lgb = LGBMClassifier(objective='binary',\n",
    "                     max_depth=8,\n",
    "                     n_estimators=300,\n",
    "                     learning_rate=0.05,\n",
    "                     categorical_column=cat_feats,\n",
    "                     n_jobs=-1\n",
    "                   )\n",
    "\n",
    "lgb.fit(X_train, y_train)\n",
    "\n",
    "train_preds = lgb.predict_proba(X_train)"
   ]
  },
  {
   "cell_type": "code",
   "execution_count": 55,
   "id": "89de1885",
   "metadata": {},
   "outputs": [],
   "source": [
    "df_ranker_predict = df_ranker_train.copy()"
   ]
  },
  {
   "cell_type": "code",
   "execution_count": 56,
   "id": "8db1fce1",
   "metadata": {},
   "outputs": [],
   "source": [
    "df_ranker_predict['proba_item_purchase'] = train_preds[:,1]"
   ]
  },
  {
   "cell_type": "code",
   "execution_count": 57,
   "id": "d8479860",
   "metadata": {},
   "outputs": [
    {
     "data": {
      "text/plain": [
       "0    0.033023\n",
       "1    0.014125\n",
       "2    0.071081\n",
       "3    0.001107\n",
       "4    0.119312\n",
       "5    0.031555\n",
       "6    0.035465\n",
       "7    0.001386\n",
       "8    0.023135\n",
       "9    0.101690\n",
       "Name: proba_item_purchase, dtype: float64"
      ]
     },
     "execution_count": 57,
     "metadata": {},
     "output_type": "execute_result"
    }
   ],
   "source": [
    "df_ranker_predict['proba_item_purchase'][:10]"
   ]
  },
  {
   "cell_type": "code",
   "execution_count": 58,
   "id": "645f6b2e",
   "metadata": {},
   "outputs": [
    {
     "data": {
      "text/html": [
       "<div>\n",
       "<style scoped>\n",
       "    .dataframe tbody tr th:only-of-type {\n",
       "        vertical-align: middle;\n",
       "    }\n",
       "\n",
       "    .dataframe tbody tr th {\n",
       "        vertical-align: top;\n",
       "    }\n",
       "\n",
       "    .dataframe thead th {\n",
       "        text-align: right;\n",
       "    }\n",
       "</style>\n",
       "<table border=\"1\" class=\"dataframe\">\n",
       "  <thead>\n",
       "    <tr style=\"text-align: right;\">\n",
       "      <th></th>\n",
       "      <th>user_id</th>\n",
       "      <th>actual</th>\n",
       "    </tr>\n",
       "  </thead>\n",
       "  <tbody>\n",
       "    <tr>\n",
       "      <th>0</th>\n",
       "      <td>1</td>\n",
       "      <td>[821867, 834484, 856942, 865456, 889248, 90795...</td>\n",
       "    </tr>\n",
       "    <tr>\n",
       "      <th>1</th>\n",
       "      <td>3</td>\n",
       "      <td>[835476, 851057, 872021, 878302, 879948, 90963...</td>\n",
       "    </tr>\n",
       "  </tbody>\n",
       "</table>\n",
       "</div>"
      ],
      "text/plain": [
       "   user_id                                             actual\n",
       "0        1  [821867, 834484, 856942, 865456, 889248, 90795...\n",
       "1        3  [835476, 851057, 872021, 878302, 879948, 90963..."
      ]
     },
     "execution_count": 58,
     "metadata": {},
     "output_type": "execute_result"
    }
   ],
   "source": [
    "result_eval_ranker = data_val_ranker.groupby(USER_COL)[ITEM_COL].unique().reset_index()\n",
    "result_eval_ranker.columns=[USER_COL, ACTUAL_COL]\n",
    "result_eval_ranker.head(2)"
   ]
  },
  {
   "cell_type": "code",
   "execution_count": 59,
   "id": "4b788bef",
   "metadata": {},
   "outputs": [
    {
     "name": "stdout",
     "output_type": "stream",
     "text": [
      "Wall time: 12.3 s\n"
     ]
    }
   ],
   "source": [
    "%%time\n",
    "result_eval_ranker['own_rec'] = result_eval_ranker[USER_COL].apply(lambda x: recommender.get_own_recommendations(x, N=N_PREDICT))"
   ]
  },
  {
   "cell_type": "code",
   "execution_count": 60,
   "id": "6f5f7d6e",
   "metadata": {},
   "outputs": [
    {
     "data": {
      "text/plain": [
       "[('own_rec', 0.1444117647058813)]"
      ]
     },
     "execution_count": 60,
     "metadata": {},
     "output_type": "execute_result"
    }
   ],
   "source": [
    "sorted(calc_precision(result_eval_ranker, TOPK_PRECISION), key=lambda x: x[1], reverse=True)"
   ]
  },
  {
   "cell_type": "code",
   "execution_count": 61,
   "id": "cc16dbe1",
   "metadata": {},
   "outputs": [],
   "source": [
    "def rerank(user_id):\n",
    "    return df_ranker_predict[df_ranker_predict[USER_COL]==user_id].sort_values('proba_item_purchase', ascending=False).head(5).item_id.tolist()"
   ]
  },
  {
   "cell_type": "code",
   "execution_count": 62,
   "id": "e8a16ecb",
   "metadata": {},
   "outputs": [],
   "source": [
    "result_eval_ranker['reranked_own_rec'] = result_eval_ranker[USER_COL].apply(lambda user_id: rerank(user_id))"
   ]
  },
  {
   "cell_type": "code",
   "execution_count": 63,
   "id": "565f038c",
   "metadata": {},
   "outputs": [
    {
     "name": "stdout",
     "output_type": "stream",
     "text": [
      "('reranked_own_rec', 0.1704438642297629)\n",
      "('own_rec', 0.1444117647058813)\n"
     ]
    },
    {
     "name": "stderr",
     "output_type": "stream",
     "text": [
      "D:\\GeekBrains\\Рекомендательные системы\\gb_recommender_systems\\HW6\\metrics.py:20: RuntimeWarning: invalid value encountered in long_scalars\n",
      "  return flags.sum() / len(recommended_list)\n"
     ]
    }
   ],
   "source": [
    "print(*sorted(calc_precision(result_eval_ranker, TOPK_PRECISION), key=lambda x: x[1], reverse=True), sep='\\n')"
   ]
  },
  {
   "cell_type": "code",
   "execution_count": null,
   "id": "ab34305f",
   "metadata": {},
   "outputs": [],
   "source": []
  }
 ],
 "metadata": {
  "kernelspec": {
   "display_name": "Python 3 (ipykernel)",
   "language": "python",
   "name": "python3"
  },
  "language_info": {
   "codemirror_mode": {
    "name": "ipython",
    "version": 3
   },
   "file_extension": ".py",
   "mimetype": "text/x-python",
   "name": "python",
   "nbconvert_exporter": "python",
   "pygments_lexer": "ipython3",
   "version": "3.9.7"
  }
 },
 "nbformat": 4,
 "nbformat_minor": 5
}
